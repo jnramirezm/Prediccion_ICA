{
 "cells": [
  {
   "cell_type": "code",
   "execution_count": 1,
   "metadata": {},
   "outputs": [],
   "source": [
    "from pandas import read_csv\n",
    "import glob\n",
    "import matplotlib.pyplot as plt\n",
    "import matplotlib as mpl\n",
    "import math\n",
    "import os\n",
    "import pandas as pd\n",
    "import numpy as np\n",
    "from keras.models import Sequential\n",
    "from keras.layers import Dense\n",
    "from keras.layers import LSTM\n",
    "from sklearn.preprocessing import MinMaxScaler\n",
    "from sklearn.metrics import mean_squared_error\n",
    "\n",
    "#pip install -U scikit-learn\n"
   ]
  },
  {
   "cell_type": "code",
   "execution_count": 2,
   "metadata": {},
   "outputs": [
    {
     "name": "stdout",
     "output_type": "stream",
     "text": [
      "27      59.0\n",
      "26      59.0\n",
      "25      59.0\n",
      "24      59.0\n",
      "23      59.0\n",
      "        ... \n",
      "3342    57.0\n",
      "3341    57.0\n",
      "3340    57.0\n",
      "3339    57.0\n",
      "3455    57.0\n",
      "Name: so2, Length: 3457, dtype: float64\n"
     ]
    }
   ],
   "source": [
    "np.random.seed(20773)\n",
    "\n",
    "pudahuel = pd.read_csv('Pudahuel Data/pudahuel-air-quality.csv', engine='python',\n",
    "                       na_values=[' '])\n",
    "pudahuel.replace('', np.nan, inplace=True)\n",
    "\n",
    "pudahuel[' pm10'] = pudahuel[' pm10'].interpolate()\n",
    "pudahuel[' o3'] = pudahuel[' o3'].interpolate()\n",
    "pudahuel[' o3'] = pudahuel[' o3'] / 1000\n",
    "pudahuel[' so2'] = pudahuel[' so2'].interpolate(method='linear', limit_direction='both')\n",
    "pudahuel['date'] = pd.to_datetime(pudahuel['date']).dt.date\n",
    "pudahuel.sort_values('date', inplace=True, ascending=False)\n",
    "pudahuel.columns = ['date', 'pm25', 'pm10', 'o3', 'no2', 'so2', 'co']\n",
    "\n",
    "print(pudahuel['so2'])\n"
   ]
  },
  {
   "cell_type": "code",
   "execution_count": 3,
   "metadata": {},
   "outputs": [],
   "source": [
    "def juntar_datos_csv(nombre_carpeta, arreglo_columnas):\n",
    "    # Obtiene la lista de todos los archivos que coinciden con el patrón\n",
    "    csv_files = glob.glob(nombre_carpeta + \"/*.csv\")\n",
    "    # Crea una lista para almacenar los DataFrames\n",
    "    dfs = []\n",
    "\n",
    "    # Lee cada archivo CSV y lo agrega a la lista de DataFrames\n",
    "    for csv_file in csv_files:\n",
    "        df = pd.read_csv(csv_file, engine='python', sep=';',\n",
    "                         usecols=arreglo_columnas)\n",
    "        dfs.append(df)\n",
    "\n",
    "    # Combina los DataFrames en uno solo\n",
    "    return pd.concat(dfs)\n",
    "\n",
    "\n",
    "# Ejemplo de uso de la función juntar_datos_csv\n",
    "agua_caida = juntar_datos_csv(\"Pudahuel Data/Agua Caida\", [3, 4])\n",
    "presion_humedad = juntar_datos_csv(\"Pudahuel Data/Presion y Humedad\",\n",
    "                                   list(range(3, 10)))\n",
    "radiacion = juntar_datos_csv(\"Pudahuel Data/Radiacion\", [3, 4])\n",
    "viento = juntar_datos_csv(\"Pudahuel Data/Viento\", [3, 5, 6, 7, 8, 9])\n",
    "\n"
   ]
  },
  {
   "attachments": {},
   "cell_type": "markdown",
   "metadata": {},
   "source": [
    "## Formateo de data frames a datos por día"
   ]
  },
  {
   "attachments": {},
   "cell_type": "markdown",
   "metadata": {},
   "source": [
    "Para datos de Agua Caída"
   ]
  },
  {
   "cell_type": "code",
   "execution_count": 4,
   "metadata": {},
   "outputs": [
    {
     "name": "stdout",
     "output_type": "stream",
     "text": [
      "                   momento  rrInst\n",
      "0      2019-01-01 00:00:00     0.0\n",
      "1      2019-01-01 00:01:00     0.0\n",
      "2      2019-01-01 00:02:00     0.0\n",
      "3      2019-01-01 00:03:00     0.0\n",
      "4      2019-01-01 00:04:00     0.0\n",
      "...                    ...     ...\n",
      "44636  2023-05-31 23:56:00     0.0\n",
      "44637  2023-05-31 23:57:00     0.0\n",
      "44638  2023-05-31 23:58:00     0.0\n",
      "44639  2023-05-31 23:59:00     0.0\n",
      "44640  2023-06-01 00:00:00     0.0\n",
      "\n",
      "[2447334 rows x 2 columns]\n"
     ]
    }
   ],
   "source": [
    "print(agua_caida)\n",
    "agua_caida['momento'] = pd.to_datetime(agua_caida['momento'])\n",
    "# Agregar una columna \"date\" que contenga solo la fecha (sin la hora)\n",
    "agua_caida['date'] = agua_caida['momento'].dt.date\n",
    "agua_caida_f = agua_caida.groupby('date')['rrInst'].sum()"
   ]
  },
  {
   "attachments": {},
   "cell_type": "markdown",
   "metadata": {},
   "source": [
    "Para datos de Radiación"
   ]
  },
  {
   "cell_type": "code",
   "execution_count": 5,
   "metadata": {},
   "outputs": [
    {
     "name": "stdout",
     "output_type": "stream",
     "text": [
      "                   momento  radiacionGlobalInst\n",
      "0      2019-05-01 00:00:00                  0.0\n",
      "1      2019-05-01 00:01:00                  0.0\n",
      "2      2019-05-01 00:02:00                  0.0\n",
      "3      2019-05-01 00:03:00                  0.0\n",
      "4      2019-05-01 00:04:00                  0.0\n",
      "...                    ...                  ...\n",
      "44636  2023-05-31 23:56:00                  0.0\n",
      "44637  2023-05-31 23:57:00                  0.0\n",
      "44638  2023-05-31 23:58:00                  0.0\n",
      "44639  2023-05-31 23:59:00                  0.0\n",
      "44640  2023-06-01 00:00:00                  0.0\n",
      "\n",
      "[2142978 rows x 2 columns]\n",
      "date\n",
      "2019-05-01    770.6\n",
      "2019-05-02    737.9\n",
      "2019-05-03    781.2\n",
      "2019-05-04    687.9\n",
      "2019-05-05    699.3\n",
      "              ...  \n",
      "2023-05-28    510.3\n",
      "2023-05-29    545.5\n",
      "2023-05-30    464.4\n",
      "2023-05-31    632.9\n",
      "2023-06-01      0.0\n",
      "Name: radiacionGlobalInst, Length: 1493, dtype: float64\n"
     ]
    }
   ],
   "source": [
    "print(radiacion)\n",
    "radiacion['momento'] = pd.to_datetime(radiacion['momento'])\n",
    "# Agregar una columna \"date\" que contenga solo la fecha (sin la hora)\n",
    "radiacion['date'] = radiacion['momento'].dt.date\n",
    "# Obtener los valores máximos para cada día en las columnas especificadas\n",
    "radiacion_f = radiacion.groupby('date')['radiacionGlobalInst'].max()\n",
    "print(radiacion_f)"
   ]
  },
  {
   "attachments": {},
   "cell_type": "markdown",
   "metadata": {},
   "source": [
    "Para datos del Viento"
   ]
  },
  {
   "cell_type": "code",
   "execution_count": 6,
   "metadata": {},
   "outputs": [
    {
     "name": "stdout",
     "output_type": "stream",
     "text": [
      "            ffInst  dd02Minutos  ff02Minutos  dd10Minutos  ff10Minutos\n",
      "date                                                                  \n",
      "2019-05-01    12.6        360.0         10.6        360.0          9.4\n",
      "2019-05-02    10.5        360.0         10.0        360.0          9.7\n",
      "2019-05-03    13.0        360.0          9.2        360.0          8.0\n",
      "2019-05-04    15.6        360.0         12.1        358.0         11.3\n",
      "2019-05-05    11.7        360.0          9.7        360.0          7.9\n",
      "...            ...          ...          ...          ...          ...\n",
      "2023-05-28    12.1        360.0          9.5        360.0          8.5\n",
      "2023-05-29    12.4        360.0         11.3        358.0         10.4\n",
      "2023-05-30    11.1        360.0          8.6        360.0          8.1\n",
      "2023-05-31    14.4        360.0         13.5        360.0         12.7\n",
      "2023-06-01     3.1        333.0          3.1        337.0          2.5\n",
      "\n",
      "[1493 rows x 5 columns]\n"
     ]
    }
   ],
   "source": [
    "#print(viento)\n",
    "viento['momento'] = pd.to_datetime(viento['momento'])\n",
    "# Agregar una columna \"date\" que contenga solo la fecha (sin la hora)\n",
    "viento['date'] = viento['momento'].dt.date\n",
    "# Obtener los valores máximos para cada día en las columnas especificadas\n",
    "#print(viento)\n",
    "#print(viento.groupby('date').max())\n",
    "viento_f = viento.groupby('date')[['ffInst', 'dd02Minutos', 'ff02Minutos',\n",
    "                                   'dd10Minutos', 'ff10Minutos']].max()\n",
    "print(viento_f)\n"
   ]
  },
  {
   "cell_type": "code",
   "execution_count": 7,
   "metadata": {},
   "outputs": [
    {
     "name": "stdout",
     "output_type": "stream",
     "text": [
      "            date         hr          p0        qfe1        qfe2          qff\n",
      "0     2019-05-01  46.929167  962.261467  962.062257  960.771935  1017.741409\n",
      "1     2019-05-02  35.030556  959.350694  959.150694  960.771935  1014.183472\n",
      "2     2019-05-03  48.330556  957.909236  957.709236  960.771935  1012.564444\n",
      "3     2019-05-04  72.917361  959.916806  959.716806  960.771935  1015.108403\n",
      "4     2019-05-05  76.053472  962.057986  961.857986  960.771935  1017.477500\n",
      "...          ...        ...         ...         ...         ...          ...\n",
      "1488  2023-05-28  75.362500  963.748611  963.548931  963.728611  1020.074271\n",
      "1489  2023-05-29  64.527778  962.370694  962.173764  962.350694  1017.812146\n",
      "1490  2023-05-30  60.300000  962.908819  962.710889  962.888819  1018.731028\n",
      "1491  2023-05-31  65.297222  963.702014  963.504757  963.682014  1019.509833\n",
      "1492  2023-06-01  51.000000  961.600000  961.400000  961.580000  1017.070000\n",
      "\n",
      "[1493 rows x 6 columns]\n"
     ]
    }
   ],
   "source": [
    "presion_humedad['momento'] = pd.to_datetime(presion_humedad['momento'])\n",
    "# Agregar una columna \"date\" que contenga solo la fecha (sin la hora)\n",
    "presion_humedad['date'] = presion_humedad['momento'].dt.date\n",
    "# Obtener los valores máximos para cada día en las columnas especificadas\n",
    "presion_humedad_f = presion_humedad.groupby('date')[['hr', 'p0', 'qfe1', 'qfe2', 'qff']]\\\n",
    "                                .mean().reset_index()\n",
    "presion_humedad_f['qfe2'] = presion_humedad_f['qfe2'].interpolate(\n",
    "    method='linear', limit_direction='backward', axis=0)\n",
    "print(presion_humedad_f)\n"
   ]
  },
  {
   "attachments": {},
   "cell_type": "markdown",
   "metadata": {},
   "source": [
    "## Construccion Data Frame con todos los datos por fecha\n"
   ]
  },
  {
   "cell_type": "code",
   "execution_count": 8,
   "metadata": {},
   "outputs": [
    {
     "name": "stdout",
     "output_type": "stream",
     "text": [
      "            date   pm25   pm10     o3   no2        so2    co  ffInst  \\\n",
      "0     2023-06-01  153.0   89.0  0.014  40.0  59.000000  18.0     3.1   \n",
      "1     2023-05-31  155.0   97.0  0.016  48.0  59.000000  19.0    14.4   \n",
      "2     2023-05-30  134.0   97.0  0.018  49.0  59.000000  17.0    11.1   \n",
      "3     2023-05-29  142.0   79.0  0.020  36.0  59.000000  13.0    12.4   \n",
      "4     2023-05-28   90.0  120.0  0.008  27.0  59.000000  13.0    12.1   \n",
      "...          ...    ...    ...    ...   ...        ...   ...     ...   \n",
      "1486  2019-05-05   61.0   58.0  0.022  32.0  64.359885  13.0    11.7   \n",
      "1487  2019-05-04   70.0   55.0  0.019  27.0  64.341547   8.0    15.6   \n",
      "1488  2019-05-03  100.0   74.0  0.018  40.0  64.323209  10.0    13.0   \n",
      "1489  2019-05-02  117.0   87.0  0.015  59.0  64.304871  15.0    10.5   \n",
      "1490  2019-05-01   77.0   86.0  0.033  45.0  64.286533  16.0    12.6   \n",
      "\n",
      "      dd02Minutos  ff02Minutos  dd10Minutos  ff10Minutos         hr  \\\n",
      "0           333.0          3.1        337.0          2.5  51.000000   \n",
      "1           360.0         13.5        360.0         12.7  65.297222   \n",
      "2           360.0          8.6        360.0          8.1  60.300000   \n",
      "3           360.0         11.3        358.0         10.4  64.527778   \n",
      "4           360.0          9.5        360.0          8.5  75.362500   \n",
      "...           ...          ...          ...          ...        ...   \n",
      "1486        360.0          9.7        360.0          7.9  76.053472   \n",
      "1487        360.0         12.1        358.0         11.3  72.917361   \n",
      "1488        360.0          9.2        360.0          8.0  48.330556   \n",
      "1489        360.0         10.0        360.0          9.7  35.030556   \n",
      "1490        360.0         10.6        360.0          9.4  46.929167   \n",
      "\n",
      "              p0        qfe1        qfe2          qff  rrInst  \\\n",
      "0     961.600000  961.400000  961.580000  1017.070000     0.0   \n",
      "1     963.702014  963.504757  963.682014  1019.509833     0.0   \n",
      "2     962.908819  962.710889  962.888819  1018.731028     0.0   \n",
      "3     962.370694  962.173764  962.350694  1017.812146     0.0   \n",
      "4     963.748611  963.548931  963.728611  1020.074271     0.0   \n",
      "...          ...         ...         ...          ...     ...   \n",
      "1486  962.057986  961.857986  960.771935  1017.477500     0.0   \n",
      "1487  959.916806  959.716806  960.771935  1015.108403     0.0   \n",
      "1488  957.909236  957.709236  960.771935  1012.564444     0.0   \n",
      "1489  959.350694  959.150694  960.771935  1014.183472     0.0   \n",
      "1490  962.261467  962.062257  960.771935  1017.741409     0.0   \n",
      "\n",
      "      radiacionGlobalInst  \n",
      "0                     0.0  \n",
      "1                   632.9  \n",
      "2                   464.4  \n",
      "3                   545.5  \n",
      "4                   510.3  \n",
      "...                   ...  \n",
      "1486                699.3  \n",
      "1487                687.9  \n",
      "1488                781.2  \n",
      "1489                737.9  \n",
      "1490                770.6  \n",
      "\n",
      "[1491 rows x 19 columns]\n",
      "Index(['date', 'pm25', 'pm10', 'o3', 'no2', 'so2', 'co', 'ffInst',\n",
      "       'dd02Minutos', 'ff02Minutos', 'dd10Minutos', 'ff10Minutos', 'hr', 'p0',\n",
      "       'qfe1', 'qfe2', 'qff', 'rrInst', 'radiacionGlobalInst'],\n",
      "      dtype='object')\n"
     ]
    }
   ],
   "source": [
    "final_df = pudahuel.merge(viento_f, on='date')\n",
    "final_df = final_df.merge(presion_humedad_f, on='date')\n",
    "final_df = final_df.merge(agua_caida_f, on='date')\n",
    "final_df = final_df.merge(radiacion_f, on='date')\n",
    "print(final_df)\n",
    "print(final_df.columns)\n",
    "\n"
   ]
  },
  {
   "attachments": {},
   "cell_type": "markdown",
   "metadata": {},
   "source": [
    "Los rangos y ponderaciones utilizados en el cálculo del Índice de Calidad del Aire de Santiago (ICAS) son definidos por la normativa chilena y están diseñados para evaluar la concentración de contaminantes atmosféricos y asignarles un valor numérico representativo de su nivel de riesgo para la salud humana y el medio ambiente.\n",
    "\n",
    "Los rangos representan los límites o umbrales establecidos para cada contaminante. Por ejemplo, para el PM2.5, los rangos indican los intervalos de concentración que van desde niveles bajos hasta niveles peligrosos. Estos rangos pueden variar según el contaminante y la normativa vigente.\n",
    "\n",
    "Las ponderaciones son los valores asignados a cada rango de concentración para determinar la contribución de cada contaminante al índice final. Estas ponderaciones suelen reflejar la importancia relativa de cada contaminante en términos de su impacto en la salud humana y el medio ambiente. Por ejemplo, se pueden asignar ponderaciones más altas a los contaminantes que tienen un mayor impacto en la calidad del aire y en la salud de las personas."
   ]
  },
  {
   "cell_type": "code",
   "execution_count": 9,
   "metadata": {},
   "outputs": [
    {
     "name": "stdout",
     "output_type": "stream",
     "text": [
      "Index(['date', 'pm25', 'pm10', 'o3', 'no2', 'so2', 'co', 'ffInst',\n",
      "       'dd02Minutos', 'ff02Minutos', 'dd10Minutos', 'ff10Minutos', 'hr', 'p0',\n",
      "       'qfe1', 'qfe2', 'qff', 'rrInst', 'radiacionGlobalInst'],\n",
      "      dtype='object')\n",
      "            date   pm25   pm10     o3   no2        so2    co  ffInst  \\\n",
      "0     2023-06-01  153.0   89.0  0.014  40.0  59.000000  18.0     3.1   \n",
      "1     2023-05-31  155.0   97.0  0.016  48.0  59.000000  19.0    14.4   \n",
      "2     2023-05-30  134.0   97.0  0.018  49.0  59.000000  17.0    11.1   \n",
      "3     2023-05-29  142.0   79.0  0.020  36.0  59.000000  13.0    12.4   \n",
      "4     2023-05-28   90.0  120.0  0.008  27.0  59.000000  13.0    12.1   \n",
      "...          ...    ...    ...    ...   ...        ...   ...     ...   \n",
      "1486  2019-05-05   61.0   58.0  0.022  32.0  64.359885  13.0    11.7   \n",
      "1487  2019-05-04   70.0   55.0  0.019  27.0  64.341547   8.0    15.6   \n",
      "1488  2019-05-03  100.0   74.0  0.018  40.0  64.323209  10.0    13.0   \n",
      "1489  2019-05-02  117.0   87.0  0.015  59.0  64.304871  15.0    10.5   \n",
      "1490  2019-05-01   77.0   86.0  0.033  45.0  64.286533  16.0    12.6   \n",
      "\n",
      "      dd02Minutos  ff02Minutos  ...          qff  rrInst  radiacionGlobalInst  \\\n",
      "0           333.0          3.1  ...  1017.070000     0.0                  0.0   \n",
      "1           360.0         13.5  ...  1019.509833     0.0                632.9   \n",
      "2           360.0          8.6  ...  1018.731028     0.0                464.4   \n",
      "3           360.0         11.3  ...  1017.812146     0.0                545.5   \n",
      "4           360.0          9.5  ...  1020.074271     0.0                510.3   \n",
      "...           ...          ...  ...          ...     ...                  ...   \n",
      "1486        360.0          9.7  ...  1017.477500     0.0                699.3   \n",
      "1487        360.0         12.1  ...  1015.108403     0.0                687.9   \n",
      "1488        360.0          9.2  ...  1012.564444     0.0                781.2   \n",
      "1489        360.0         10.0  ...  1014.183472     0.0                737.9   \n",
      "1490        360.0         10.6  ...  1017.741409     0.0                770.6   \n",
      "\n",
      "      pm25_ica  pm10_ica  o3_ica  no2_ica  so2_ica  co_ica    ICA  \n",
      "0        203.0        68      13     38.0       80   218.0  218.0  \n",
      "1        205.0        72      15     45.0       80   224.0  224.0  \n",
      "2        192.0        72      17     46.0       80   211.0  211.0  \n",
      "3        196.0        63      19     34.0       80   159.0  196.0  \n",
      "4        169.0        83       7     25.0       80   159.0  169.0  \n",
      "...        ...       ...     ...      ...      ...     ...    ...  \n",
      "1486     154.0        52      20     30.0       87   159.0  159.0  \n",
      "1487     158.0        51      18     25.0       87    86.0  158.0  \n",
      "1488     174.0        60      17     38.0       87   109.0  174.0  \n",
      "1489     183.0        67      14     56.0       87   193.0  193.0  \n",
      "1490     162.0        66      31     42.0       87   204.0  204.0  \n",
      "\n",
      "[1491 rows x 26 columns]\n"
     ]
    }
   ],
   "source": [
    "# dataset = dataframe.values\n",
    "# dataset = dataset.astype('float32')\n",
    "# numpy.shape(dataset)\n",
    "print(final_df.columns)\n",
    "\n",
    "\n",
    "# Función para calcular el AQI\n",
    "def calcular_ica_polucion(cp, pollutant):\n",
    "    # Definir los puntos de interrupción y los rangos de AQI\n",
    "    breakpoints = {\n",
    "        'o3': [(0, 0.054), (0.055, 0.070), (0.071, 0.085), (0.086, 0.105),\n",
    "                (0.106, 0.200), (0.201, 0.504)],\n",
    "        'pm25': [(0, 12.0), (12.1, 35.4), (35.5, 55.4), (55.5, 150.4),\n",
    "                 (150.5, 250.4), (250.5, 500.4)],\n",
    "        'pm10': [(0, 54), (55, 154), (155, 254), (255, 354), (355, 424),\n",
    "                 (425, 604)],\n",
    "        'co': [(0, 4.4), (4.5, 9.4), (9.5, 12.4), (12.5, 15.4),\n",
    "               (15.5, 30.4), (30.5, 50.4)],\n",
    "        'so2': [(0, 35), (36, 75), (76, 185), (186, 304), (305, 604),\n",
    "                (605, 1004)],\n",
    "        'no2': [(0, 53), (54, 100), (101, 360), (361, 649),\n",
    "                (650, 1249), (1250, 2049)]\n",
    "    }\n",
    "    rangos_ica = [(0, 50), (51, 100), (101, 150), (151, 200),\n",
    "                  (201, 300), (301, 500)]\n",
    "    for i, (bp_lo, bp_hi) in enumerate(breakpoints[pollutant]):\n",
    "        if bp_lo <= cp <= bp_hi:\n",
    "            i_lo, i_hi = rangos_ica[i]\n",
    "            ip = ((i_hi - i_lo) / (bp_hi - bp_lo)) * (cp - bp_lo) + i_lo\n",
    "            return round(ip)\n",
    "    return np.nan\n",
    "\n",
    "\n",
    "def calcular_polucion(df):\n",
    "    # Calcular el AQI para cada contaminante y cada fila\n",
    "    for pollutant in ['pm25', 'pm10', 'o3', 'no2', 'so2', 'co']:\n",
    "        df[f'{pollutant}_ica'] = df[pollutant].apply(\n",
    "            calcular_ica_polucion, pollutant=pollutant)\n",
    "\n",
    "    # Calcular el AQI para cada fila\n",
    "    df['ICA'] = df[[f'{pollutant}_ica'\n",
    "                                for pollutant in ['pm25', 'pm10', 'o3', 'no2', 'so2', 'co']]].max(axis=1)\n",
    "    return df\n",
    "\n",
    "\n",
    "calcular_polucion(final_df)\n",
    "\n",
    "# Supongamos que tienes un DataFrame llamado df que contiene los datos de pm25, pm10, o3, no2 y co\n",
    "\n",
    "test = 10\n",
    "\n",
    "print(final_df.query(\"ICA > @test\"))"
   ]
  },
  {
   "cell_type": "code",
   "execution_count": 10,
   "metadata": {},
   "outputs": [],
   "source": [
    "# Function to create the dataset\n",
    "# Equation f(yt) = f(yt-5)\n",
    "# Convert an array of values into a dataset matrix\n",
    "\n",
    "# Convert series to supervised learning\n",
    "def series_to_supervised(data, n_in=1, n_out=1, dropnan=True):\n",
    "    n_vars = 1 if type(data) is list else data.shape[1]\n",
    "    df = pd.DataFrame(data)\n",
    "    cols, names = list(), list()\n",
    "    \n",
    "    # Input sequence (t-n, ... t-1)\n",
    "    for i in range(n_in, 0, -1):\n",
    "        cols.append(df.shift(i))\n",
    "        names += [('var%d(t-%d)' % (j+1, i)) for j in range(n_vars)]\n",
    "    \n",
    "    # Forecast sequence (t, t+1, ... t+n)\n",
    "    for i in range(0, n_out):\n",
    "        cols.append(df.shift(-i))\n",
    "        if i == 0:\n",
    "            names += [('var%d(t)' % (j+1)) for j in range(n_vars)]\n",
    "        else:\n",
    "            names += [('var%d(t+%d)' % (j+1, i)) for j in range(n_vars)]\n",
    "    \n",
    "    # Put it all together\n",
    "    agg = pd.concat(cols, axis=1)\n",
    "    agg.columns = names\n",
    "    \n",
    "    # Drop rows with NaN values\n",
    "    if dropnan:\n",
    "        agg.dropna(inplace=True)\n",
    "    \n",
    "    return agg\n",
    "\n"
   ]
  },
  {
   "cell_type": "code",
   "execution_count": 11,
   "metadata": {},
   "outputs": [
    {
     "name": "stdout",
     "output_type": "stream",
     "text": [
      "Index(['date', 'pm25', 'pm10', 'o3', 'no2', 'so2', 'co', 'ffInst',\n",
      "       'dd02Minutos', 'ff02Minutos', 'dd10Minutos', 'ff10Minutos', 'hr', 'p0',\n",
      "       'qfe1', 'qfe2', 'qff', 'rrInst', 'radiacionGlobalInst', 'pm25_ica',\n",
      "       'pm10_ica', 'o3_ica', 'no2_ica', 'so2_ica', 'co_ica', 'ICA'],\n",
      "      dtype='object')\n",
      "   pm25(t-5)  pm10(t-5)   o3(t-5)  no2(t-5)  so2(t-5)   co(t-5)  ffInst(t-5)  \\\n",
      "5   0.602510   0.411168  0.068421  0.404255  0.522902  0.293103     0.032563   \n",
      "6   0.610879   0.451777  0.078947  0.489362  0.522902  0.310345     0.151261   \n",
      "7   0.523013   0.451777  0.089474  0.500000  0.522902  0.275862     0.116597   \n",
      "8   0.556485   0.360406  0.100000  0.361702  0.522902  0.206897     0.130252   \n",
      "9   0.338912   0.568528  0.036842  0.265957  0.522902  0.206897     0.127101   \n",
      "\n",
      "   dd02Minutos(t-5)  ff02Minutos(t-5)  dd10Minutos(t-5)  ff10Minutos(t-5)  \\\n",
      "5             0.925          0.040843          0.936111          0.062814   \n",
      "6             1.000          0.177866          1.000000          0.319095   \n",
      "7             1.000          0.113307          1.000000          0.203518   \n",
      "8             1.000          0.148880          0.994444          0.261307   \n",
      "9             1.000          0.125165          1.000000          0.213568   \n",
      "\n",
      "    hr(t-5)   p0(t-5)  qfe1(t-5)  qfe2(t-5)  qff(t-5)  rrInst(t-5)  \\\n",
      "5  0.398983  0.437536   0.437536   0.432902  0.470818     0.000000   \n",
      "6  0.597393  0.564141   0.564306   0.560277  0.588847     0.429667   \n",
      "7  0.528044  0.516367   0.516491   0.512212  0.551172     0.315275   \n",
      "8  0.586715  0.483955   0.484140   0.479603  0.506720     0.370333   \n",
      "9  0.737074  0.566948   0.566967   0.563101  0.616153     0.346436   \n",
      "\n",
      "   radiacionGlobalInst(t-5)       ICA  \n",
      "5                  0.351090  0.210654  \n",
      "6                  0.365617  0.266344  \n",
      "7                  0.334140  0.234867  \n",
      "8                  0.297821  0.271186  \n",
      "9                  0.232446  0.290557  \n"
     ]
    }
   ],
   "source": [
    "model_df = final_df.copy()\n",
    "print(model_df.columns)\n",
    "model_df.drop(['date', 'pm25_ica', 'pm10_ica', 'o3_ica', 'no2_ica', 'so2_ica',\n",
    "               'co_ica', 'rrInst'], axis=1, inplace=True)\n",
    "# Normalizar los datos\n",
    "scaler = MinMaxScaler(feature_range=(0, 1))\n",
    "model_df = scaler.fit_transform(model_df)\n",
    "reframed = series_to_supervised(model_df, 5, 1)\n",
    "reframed = reframed.drop(reframed.columns[list(range(18, 107))], axis=1)\n",
    "reframed.columns = ['pm25(t-5)', 'pm10(t-5)', 'o3(t-5)', 'no2(t-5)', 'so2(t-5)',\n",
    "                    'co(t-5)', 'ffInst(t-5)', 'dd02Minutos(t-5)',\n",
    "                    'ff02Minutos(t-5)', 'dd10Minutos(t-5)', 'ff10Minutos(t-5)',\n",
    "                    'hr(t-5)', 'p0(t-5)', 'qfe1(t-5)', 'qfe2(t-5)', 'qff(t-5)',\n",
    "                    'rrInst(t-5)', 'radiacionGlobalInst(t-5)', 'ICA']\n",
    "print(reframed.head())\n"
   ]
  },
  {
   "cell_type": "code",
   "execution_count": 12,
   "metadata": {},
   "outputs": [
    {
     "name": "stdout",
     "output_type": "stream",
     "text": [
      "1192 299\n"
     ]
    }
   ],
   "source": [
    "# split into train and test sets\n",
    "train_size = int(len(model_df) * 0.8)\n",
    "test_size = len(model_df) - train_size\n",
    "train, test = model_df[0:train_size], model_df[train_size:len(model_df)]\n",
    "print(len(train), len(test))\n",
    "\n",
    "train = series_to_supervised(train, 5, 1)\n",
    "train = train.drop(train.columns[list(range(18, 107))], axis=1)\n",
    "train.columns = ['pm25(t-5)', 'pm10(t-5)', 'o3(t-5)', 'no2(t-5)', 'so2(t-5)',\n",
    "                 'co(t-5)', 'ffInst(t-5)', 'dd02Minutos(t-5)', 'ff02Minutos(t-5)',\n",
    "                 'dd10Minutos(t-5)', 'ff10Minutos(t-5)', 'hr(t-5)', 'p0(t-5)',\n",
    "                 'qfe1(t-5)', 'qfe2(t-5)', 'qff(t-5)', 'rrInst(t-5)',\n",
    "                 'radiacionGlobalInst(t-5)', 'ICA']\n",
    "\n",
    "train = train.values\n",
    "train_x, train_y = train[:, :-1], train[:, -1]\n",
    "\n",
    "test = series_to_supervised(test, 5, 1)\n",
    "test = test.drop(test.columns[list(range(18, 107))], axis=1)\n",
    "test.columns = ['pm25(t-5)', 'pm10(t-5)', 'o3(t-5)', 'no2(t-5)', 'so2(t-5)',\n",
    "                'co(t-5)', 'ffInst(t-5)', 'dd02Minutos(t-5)', 'ff02Minutos(t-5)',\n",
    "                'dd10Minutos(t-5)', 'ff10Minutos(t-5)', 'hr(t-5)', 'p0(t-5)',\n",
    "                'qfe1(t-5)', 'qfe2(t-5)', 'qff(t-5)', 'rrInst(t-5)',\n",
    "                'radiacionGlobalInst(t-5)', 'ICA']\n",
    "\n",
    "test = test.values\n",
    "test_x, test_y = test[:, :-1], test[:, -1]\n",
    "\n"
   ]
  },
  {
   "cell_type": "code",
   "execution_count": 13,
   "metadata": {},
   "outputs": [
    {
     "name": "stdout",
     "output_type": "stream",
     "text": [
      "(1115, 18, 1) (1115,) (257, 18, 1) (257,)\n",
      "18 1\n"
     ]
    }
   ],
   "source": [
    "train_x = train_x.reshape((train_x.shape[0], train_x.shape[1], 1))\n",
    "test_x = test_x.reshape((test_x.shape[0], train_x.shape[1], 1))\n",
    "print(train_x.shape, train_y.shape, test_x.shape, test_y.shape)\n",
    "print(train_x.shape[1], train_x.shape[2])\n"
   ]
  },
  {
   "cell_type": "code",
   "execution_count": 28,
   "metadata": {},
   "outputs": [],
   "source": [
    "# create and fit the LSTM network\n",
    "batch_size = 5\n",
    "model = Sequential()\n",
    "model.add(LSTM(20, batch_input_shape=(batch_size, train_x.shape[1], 1), return_sequences=True))\n",
    "model.add(Dense(1))\n",
    "model.add(Dense(1))\n",
    "model.compile(loss='mean_squared_error', optimizer='adam')\n"
   ]
  },
  {
   "cell_type": "code",
   "execution_count": 29,
   "metadata": {},
   "outputs": [
    {
     "name": "stdout",
     "output_type": "stream",
     "text": [
      "Epoch 1/20\n",
      "223/223 - 3s - loss: 0.0225 - 3s/epoch - 14ms/step\n",
      "Epoch 2/20\n",
      "223/223 - 1s - loss: 0.0184 - 884ms/epoch - 4ms/step\n",
      "Epoch 3/20\n",
      "223/223 - 1s - loss: 0.0177 - 895ms/epoch - 4ms/step\n",
      "Epoch 4/20\n",
      "223/223 - 1s - loss: 0.0174 - 877ms/epoch - 4ms/step\n",
      "Epoch 5/20\n",
      "223/223 - 1s - loss: 0.0171 - 886ms/epoch - 4ms/step\n",
      "Epoch 6/20\n",
      "223/223 - 1s - loss: 0.0169 - 877ms/epoch - 4ms/step\n",
      "Epoch 7/20\n",
      "223/223 - 1s - loss: 0.0167 - 894ms/epoch - 4ms/step\n",
      "Epoch 8/20\n",
      "223/223 - 1s - loss: 0.0164 - 881ms/epoch - 4ms/step\n",
      "Epoch 9/20\n",
      "223/223 - 1s - loss: 0.0161 - 878ms/epoch - 4ms/step\n",
      "Epoch 10/20\n",
      "223/223 - 1s - loss: 0.0157 - 832ms/epoch - 4ms/step\n",
      "Epoch 11/20\n",
      "223/223 - 1s - loss: 0.0157 - 814ms/epoch - 4ms/step\n",
      "Epoch 12/20\n",
      "223/223 - 1s - loss: 0.0154 - 820ms/epoch - 4ms/step\n",
      "Epoch 13/20\n",
      "223/223 - 1s - loss: 0.0152 - 818ms/epoch - 4ms/step\n",
      "Epoch 14/20\n",
      "223/223 - 1s - loss: 0.0150 - 855ms/epoch - 4ms/step\n",
      "Epoch 15/20\n",
      "223/223 - 1s - loss: 0.0148 - 824ms/epoch - 4ms/step\n",
      "Epoch 16/20\n",
      "223/223 - 1s - loss: 0.0146 - 814ms/epoch - 4ms/step\n",
      "Epoch 17/20\n",
      "223/223 - 1s - loss: 0.0144 - 811ms/epoch - 4ms/step\n",
      "Epoch 18/20\n",
      "223/223 - 1s - loss: 0.0142 - 821ms/epoch - 4ms/step\n",
      "Epoch 19/20\n",
      "223/223 - 1s - loss: 0.0141 - 816ms/epoch - 4ms/step\n",
      "Epoch 20/20\n",
      "223/223 - 1s - loss: 0.0139 - 823ms/epoch - 4ms/step\n"
     ]
    },
    {
     "data": {
      "image/png": "[encoded data removed]",
      "text/plain": [
       "<Figure size 640x480 with 1 Axes>"
      ]
     },
     "metadata": {},
     "output_type": "display_data"
    }
   ],
   "source": [
    "from matplotlib import pyplot as plt\n",
    "#pytest\n",
    "\n",
    "history = model.fit(train_x, train_y, epochs=20, batch_size= batch_size, verbose=2, shuffle=False)\n",
    "plt.plot(history.history['loss'], label='train')\n",
    "plt.legend()\n",
    "plt.show()"
   ]
  },
  {
   "cell_type": "code",
   "execution_count": 30,
   "metadata": {},
   "outputs": [
    {
     "name": "stdout",
     "output_type": "stream",
     "text": [
      "35/35 [==============================] - 1s 3ms/step\n",
      "9/9 [==============================] - 0s 3ms/step\n"
     ]
    }
   ],
   "source": [
    "# make predictions\n",
    "train_predict = model.predict(train_x)\n",
    "model.reset_states()\n",
    "test_predict = model.predict(test_x)"
   ]
  },
  {
   "cell_type": "code",
   "execution_count": 31,
   "metadata": {},
   "outputs": [
    {
     "name": "stdout",
     "output_type": "stream",
     "text": [
      "Test Score: 36.96 RMSE\n"
     ]
    }
   ],
   "source": [
    "# invert predictions\n",
    "# Arreglo shatgipti\n",
    "pred_prueba_y = test_predict.reshape(test_predict.shape[0], test_predict.shape[1])\n",
    "pred_prueba_y = scaler.inverse_transform(pred_prueba_y)\n",
    "pred_prueba_y = pred_prueba_y[:, 0]\n",
    "\n",
    "test_y = test_y.reshape(len(test_y), 1)\n",
    "test_x2 = test_x.reshape((test_x.shape[0], test_x.shape[1]))\n",
    "data_prueba_y = np.concatenate((test_y, test_x2[:, 1:]), axis=1)\n",
    "data_prueba_y = scaler.inverse_transform(data_prueba_y)\n",
    "data_prueba_y = data_prueba_y[:, 0]\n",
    "\n",
    "test_score = math.sqrt(mean_squared_error(data_prueba_y, pred_prueba_y))\n",
    "print('Test Score: %.2f RMSE' % (test_score))"
   ]
  },
  {
   "cell_type": "code",
   "execution_count": 32,
   "metadata": {},
   "outputs": [
    {
     "name": "stdout",
     "output_type": "stream",
     "text": [
      "Train Score: 28.98 RMSE\n"
     ]
    }
   ],
   "source": [
    "pred_entrenamiento_y = train_predict.reshape(train_predict.shape[0], train_predict.shape[1])\n",
    "pred_entrenamiento_y = scaler.inverse_transform(pred_entrenamiento_y)\n",
    "pred_entrenamiento_y = pred_entrenamiento_y[:, 0]\n",
    "\n",
    "train_y = train_y.reshape(len(train_y), 1)\n",
    "train_x2 = train_x.reshape((train_x.shape[0], train_x.shape[1]))\n",
    "data_entrenamiento_y = np.concatenate((train_y, train_x2[:, 1:]), axis=1)\n",
    "data_entrenamiento_y = scaler.inverse_transform(data_entrenamiento_y)\n",
    "data_entrenamiento_y = data_entrenamiento_y[:, 0]\n",
    "\n",
    "train_score = math.sqrt(mean_squared_error(data_entrenamiento_y, pred_entrenamiento_y))\n",
    "print('Train Score: %.2f RMSE' % (train_score))\n"
   ]
  }
 ],
 "metadata": {
  "kernelspec": {
   "display_name": "gestion",
   "language": "python",
   "name": "gestion"
  },
  "language_info": {
   "codemirror_mode": {
    "name": "ipython",
    "version": 3
   },
   "file_extension": ".py",
   "mimetype": "text/x-python",
   "name": "python",
   "nbconvert_exporter": "python",
   "pygments_lexer": "ipython3",
   "version": "3.11.0"
  }
 },
 "nbformat": 4,
 "nbformat_minor": 4
}
